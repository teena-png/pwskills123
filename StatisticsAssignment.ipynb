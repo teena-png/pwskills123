{
 "cells": [
  {
   "cell_type": "markdown",
   "id": "9a98ad95-a135-4053-908d-d5d50722c2b6",
   "metadata": {},
   "source": [
    "# Theoretical Question"
   ]
  },
  {
   "cell_type": "code",
   "execution_count": null,
   "id": "c7024361-4cae-48a5-a6ff-257f9171f292",
   "metadata": {},
   "outputs": [],
   "source": [
    "#Q1.What is statistic,and why is it important?\n",
    "Ans=Statistics is the branch of mathematics that deals with collecting,organizing ,analyzing,interpreting,and presenting data.it helps us make\n",
    "sense of data and draw meaningful conclusion.\n",
    "\n",
    "Why is statistics important:\n",
    "1.Informed Decision-Making:\n",
    "    Business,Government,Scientists and Individuals use statistics to make decisions.\n",
    "2.Understanding Data Trends:\n",
    "    It help identify patterns,trends, and relationship in data.\n",
    "3.Scientific Reasearch :\n",
    "Validates experimental results and supports or refutes hypotheses.\n",
    "4.Risk Assesment and Forecasting:\n",
    "Used in insurrence ,finance weather prediction, and more to estimate probabilities and plan accordingly.\n",
    "\n",
    "5.Quality Control:\n",
    "Industries use it to maintain product standards and improve processes.\n",
    "\n"
   ]
  },
  {
   "cell_type": "code",
   "execution_count": null,
   "id": "bd798db4-d647-4bd6-ad21-5c97b731c76e",
   "metadata": {},
   "outputs": [],
   "source": [
    "#Q2.What are the two main types of statistics?\n",
    "Ans=The two types of statistics are:\n",
    "1.Descriptive Statistics:\n",
    ".Definition: Describes,Summarizes,or organization data in a meaningful way.\n",
    ".Purpose: To present data clarify and simply.\n",
    "Example:\n",
    ".Mean\n",
    ".Median\n",
    ".Mode\n",
    ".Range\n",
    ".Standard deviation\n",
    ".Charts and graphs:\n",
    "Example:\n",
    "A teacher calculate average score of a class on a math test.\n",
    "\n",
    "2.Inferential Statistics:\n",
    ".Definition:Makes pediction or generalization about a population based on a sample of data.\n",
    ".Purpose: To draw conclusion and make decisions with uncertainty.\n",
    ".Example:\n",
    "    .Hypothsis\n",
    "    .Confidence interval\n",
    "    .Regression analysis\n",
    "    .ANOVA(Analysis of Variance)\n",
    "Example: A medical researcher uses a sample of patients to determine if a new drug is effective for the larger population.\n"
   ]
  },
  {
   "cell_type": "code",
   "execution_count": null,
   "id": "344c1ab4-f45e-4c12-bfee-552583430107",
   "metadata": {},
   "outputs": [],
   "source": [
    "#Q3.What are the descriptive statistics?\n",
    "Ans=Descriptive statistics are methods used to summarize,organise,and present data in  a clear and simple way.They help us understand the\n",
    "basic features of a dataset without making predictions or drawing conclusion beyond the data.\n",
    "Main types of descriptive statistics:\n",
    "1.Measure of Central Tedency:\n",
    ".Mean\n",
    ".Median\n",
    ".Mode\n",
    "2.Measure of Despersion:\n",
    ".Range\n",
    ".Variance\n",
    ".Standard Deviation\n",
    "3.Measure of Position:\n",
    ".Percentile \n",
    ".Quartile\n",
    "4.Data Visulization Tools:\n",
    ".Bar charts\n",
    ".Histograms\n",
    ".Pie charts\n",
    ".Box plots\n",
    ".Line graphs\n",
    "#Example\n",
    "if a class of 30 students took a test:\n",
    ".Mean score:75\n",
    ".Median score:78\n",
    ".Mode score:80\n",
    ".Range:40(98highest-58lowest)\n",
    ".Standard deviation:10\n"
   ]
  },
  {
   "cell_type": "code",
   "execution_count": null,
   "id": "329ffc09-ef17-4700-ab66-56d1dc373a2d",
   "metadata": {},
   "outputs": [],
   "source": [
    "#Q4.What is inferential statistics.\n",
    "Ans=Definition:\n",
    "Inferential statistics uses data from a small group to inter or estimate characterstics of a larger group .it helps deal with uncertainty by \n",
    "using probability.\n",
    "Methods of inferential statistics:\n",
    "1.Hypothesis Testing :Test a claim about a population\n",
    "2.Confidence intervals:A range of values that likely contains the population parameter.\n",
    "3.Regression Analysis:Examines realtionships between variables.\n",
    "4.ANOVA: Compares means between three or more groups.\n",
    "#Example \n",
    "    Imagine a researcher wants to know the average height of all high school students in a ountry.Measuring everyone is impossible,so they\n",
    "    collect a sample of 500 students. Using inferential statistics,they estimate the average height of all students and report a confidence \n",
    "    interval or test hypotheses about differences between groups."
   ]
  },
  {
   "cell_type": "code",
   "execution_count": null,
   "id": "6d0328a2-da70-41e6-b7af-acfae0ba3401",
   "metadata": {},
   "outputs": [],
   "source": [
    "#Q5.What is the sampling in the statistics?\n",
    "Ans=Sampling is a techniqes used to gather data from a small group that represents the whole population ,epecially when it impossible or \n",
    "impractical to collect data from everyone:\n",
    "\n",
    "Why is it important:\n",
    ".Saves time and cost\n",
    ".Reduce effort\n",
    ".makes it easier to anlayze and dreaw conclusions\n",
    ".Allow use of inferential statistics to make genralization.\n",
    "\n",
    "Key terms:\n",
    ".Population\n",
    ".Sample\n",
    ".Sample Method\n",
    "\n",
    "Example:\n",
    "Goal find the average height of high school students in a city:\n",
    ".Population: All high school students in the city\n",
    ".Sample : 200 student selected randomly from differently schools\n",
    ".Sample:200 students selected randomly from different schools\n",
    ".Sampling method : Stratified sampling\n"
   ]
  },
  {
   "cell_type": "code",
   "execution_count": null,
   "id": "a9f78d6f-eec5-4627-8718-50aa3bafbb23",
   "metadata": {},
   "outputs": [],
   "source": [
    "#Q6.What are the different types of sampling methods?\n",
    "Ans=There are two main categories of sampling method in statistics each with seveaal types:\n",
    "1.Probality Sampling: \n",
    "In these method every memeber of the population has a known ,non zero chance of being selected.This allow for more accurate and unbaised results.\n",
    "Types of Probability Sampling:\n",
    "    1.Sample Random Sampling:\n",
    "    .Every memner has an equal chance of being chosen.\n",
    "    2.Systemetic Sampling:\n",
    "    .Systemetic Sampling:\n",
    "    .Select every _k_th person from a list. \n",
    "    3.Stratified Sampling:\n",
    "    .Divide the population into groups based on a charaterstics then randomly sample from each groups.\n",
    "    4.Cluster Samling\n",
    "    .Divide the population into cluster then randomly select whole clusters.\n",
    "2.Non-Probabiliy Sampling:\n",
    "In these method ,not all members have a chance of being selected.Theses are easier and cheaper but more prone to bias:\n",
    "Types of Non-Probability:\n",
    "1.Convenience Sampling\n",
    ".Choose individual who are easiest to reach.\n",
    "2.Judgemental of Purposive Sampling\n",
    ".Researcher selects people based on their knowledge or purpose of the study.\n",
    "3.Snowball Sampling\n",
    ".Existing participants refer new pa\n"
   ]
  },
  {
   "cell_type": "code",
   "execution_count": null,
   "id": "f7d20302-32f7-4541-9438-d6ae031a632d",
   "metadata": {},
   "outputs": [],
   "source": [
    "#Q7.What is the difference between random and non random-sampling?\n",
    "Ans=The difference between random and non-random sampling lies in how the samples are selcted from a population .\n",
    ".Random Sampling\n",
    ".Definition: Every individual or unit in the population has an equal and known chance of being selected.\n",
    ".Goal:To reduce bias and produce a sample that is representstive of the entire population.\n",
    ".Example:\n",
    ".Simple random sampling:Names drawn from a hat or using a random number generator.\n",
    ".Stratified random sampling:The population is divided into subgroups and then randomly sampled within each group.\n",
    ".Systemetic sampling:Every k-th item is selected from a list after a random start.\n",
    "\n",
    ".Non-Random Sampling:\n",
    ".Definition: Some individual have a higher chance of being selected than other and selection is not based on chance.\n",
    ".Goal: Often used when random sampling is not feasible or for exploratory research.\n",
    "Example: .Convenence sampling:selecting people who are easiest to reach.\n",
    "         .Purposive sampling :selecting specific individuals basd on characterstics or purpose.\n",
    "         .Snowball sampling:Existing study subjects recruit future subjects.\n"
   ]
  },
  {
   "cell_type": "code",
   "execution_count": null,
   "id": "1670a1df-c26e-4de7-ab57-d4331353a2f4",
   "metadata": {},
   "outputs": [],
   "source": [
    "#Q8.Define and give examples of qualitative and quantitative data?\n",
    "Ans=Qualitative Data:\n",
    ".Definition: Qualitative data describe qualities or characterstics.It is non-numeraical and often answers the question \"What\",\"how\",or \"why\".\n",
    "Examples:\n",
    ".Colors of cas in a parking lot(e.g. red, black, blue)\n",
    ".Types of cuisine(e.g.,italian,Chinese,Mexican)\n",
    ".Customer feedback:(e.g,\"Excellent service\" , \"too slow\") \n",
    ".Martial status(e.g,single,married,divorced)\n",
    "\n",
    "Quntitative Data (Numerical Data):\n",
    "Definition:\n",
    "Qualitative data is numerical and represents quantities or amounts.It can be measured or counted.\n",
    "Examples:\n",
    ".Height of students(eg. 160cm,175cm)\n",
    ".Numbers of books read in a year (e.g,5,12,20)\n",
    ".Test scores(e.g,85%,92%,78%)\n",
    ".Monthly income(e,g,$2,500,$4,000)\n",
    "\n"
   ]
  },
  {
   "cell_type": "code",
   "execution_count": null,
   "id": "e98c0c3f-6d90-4d64-80f9-b3e99e967995",
   "metadata": {},
   "outputs": [],
   "source": [
    "#Q9.What are the different types of data in statistics?\n",
    "Ans=In Statistics,data can be categorized in several ways depending o its characteristics.Here are the main types of data.\n",
    "1.Qualitative Data\n",
    "This type of data represents categories or labels and cannot  be measured numerically.\n",
    ".Nominal Data \n",
    ".No inherent order\n",
    ".Examples :gender ,blood type,colors\n",
    ".Ordinal Data:\n",
    "Has a meaningfu; order,but differences between values are ot meaningful.\n",
    "Example: Education level ,customer satisfaction\n",
    "\n",
    "2.Quntitative Data:\n",
    "This type of data represents measurable quantities and can be used for mathematical calculation.\n",
    ".Descrete Data:\n",
    ".Countable values,usually whole numbers.\n",
    ".Examples:Numbers of student in a class, number of cars in parking lot.\n",
    ".Continuous Data:\n",
    ".can take any value within a range.\n",
    ".Example: Height ,weight,tempreture,time.\n",
    "    "
   ]
  },
  {
   "cell_type": "code",
   "execution_count": null,
   "id": "3f65b1b4-cdf6-47ef-8768-2ad14e181778",
   "metadata": {},
   "outputs": [],
   "source": [
    "#Q10.Explain nominal,ordinal,interval,and ratio levels of measurement.\n",
    "Ans=In statistics,the levels of measurement describe how data values can be categorized,ordered,and measured.There are four leves: nominal\n",
    ",ordinal,interval,and ratio moving from the simplest to the most complex.\n",
    "1.Nominal Level:\n",
    ".Definition:Data consist of categories or names only.There no order or ranking.\n",
    ".Key Traits:\n",
    ".Categorizd but not ordered.\n",
    ".Cannot do mathematical operatons.\n",
    "Examples: \n",
    ".Gender\n",
    ".Blood type\n",
    ".Colors\n",
    "\n",
    "2.Ordinal Level\n",
    ".Definition: Data can be ordered or ranked,but the differences between values are not meaningful or equal.\n",
    ".Key Traits:\n",
    ".You know one is more than the other,but not by how much.\n",
    ".Still no meaningful mathematical operations.\n",
    "Examples:\n",
    ".Survey ratings: Poor,Fair,Good,Excellent\n",
    ".Education level: High school<bachelor<Master<PhD\n",
    ".Military ranks\n",
    "\n",
    "3.Interval Level\n",
    ".Dfinition:Data is ordered and the difference between values is meaningful,but there is no true zero point.\n",
    "Key Traits:\n",
    ".Can add/subtract values.\n",
    ".No \"true zero\",so rtios do not make sense\n",
    "Example:\n",
    ".Tempreture in celsius o Fahrenheit \n",
    ".IQ scores\n",
    ".Calendar years\n",
    "\n",
    "4.Ratio Level:\n",
    ".Definition:Rtio levels in statistics is the highest and most informative level of measurement among the four ommon types:\n",
    "Key Traits:\n",
    ".Absolute Zero Point\n",
    ".Equal Intervals\n",
    ".All mathematical Operations Are valid\n",
    "Example:\n",
    "Weight:Has a true zero equal intervals\n",
    "Age:0 years means no age,and ratios work\n",
    "Income($):$0 means no money, and 100 i\n",
    "\n",
    "\n",
    "\n"
   ]
  },
  {
   "cell_type": "code",
   "execution_count": null,
   "id": "b482744a-bde0-49ac-b237-57bc78a26a2d",
   "metadata": {},
   "outputs": [],
   "source": [
    "#Q11.What is the measure of central tedency?\n",
    "Ans=The measure of central tedency refers to a single value that represent the center or average of data set.It gives a typical or\n",
    "representative value around which other data points tend to cluster.\n",
    "Main Measures of Central Tendency:\n",
    "Mean(Arithmetic Average)=Sum of all values / number of values.\n",
    "Median =The middle value when data is ordered\n",
    "Mode=The value that occur most frequently\n",
    "\n",
    "Example:\n",
    "Scores :70,85,90,85,60,95,100\n",
    "1.Mean:\n",
    "Mean=70+85+90+85+60+95+100/7=585/7=83.57\n",
    "\n",
    "2.Median:\n",
    "step1= order the data\n",
    "60,70,85,90,95,100\n",
    "step2:Find the middle value:\n",
    "There are 7 numbers the 4th value is the median:85\n",
    "\n",
    "3.Mode:\n",
    "Look any repeated values:\n",
    ".85 appears twice\n"
   ]
  },
  {
   "cell_type": "code",
   "execution_count": null,
   "id": "6e4ca336-d380-448d-a652-cf5b15399cc5",
   "metadata": {},
   "outputs": [],
   "source": [
    "#Q12.Define mean,median and mode.\n",
    "Ans=Mean:\n",
    ".Definition:The mean is the sum of all values in a dataset divided by the number of values.\n",
    "Examples=For the data:2,4,6,8\n",
    "Mean=2+4+6+8/4=20/4=5\n",
    "\n",
    "2.Mode:\n",
    ".Definition:The mode is the value that appears most frequently in a dataset.\n",
    ".A dataset can have:\n",
    ".One mode(unimodal)\n",
    ".More than one mode(bimodal,multimodal)\n",
    ".No mod(if no value repeats)\n",
    ".Example:For the data: 1,2,2,3,4\n",
    "Mode=2\n",
    "\n",
    "3.Median:\n",
    ".Definition:The median is the middle value when the data is arrranged in order.\n",
    ".If the number of values is odd,it is the middle one.\n",
    ".If even, it is the average  of the two middle values.\n",
    "Example:\n",
    ".For data 3,5,7(odd count),the median is 5\n",
    ".For data 3,5,7,9(even count), median is 5+7/2=6\n",
    "\n",
    "\n"
   ]
  },
  {
   "cell_type": "code",
   "execution_count": null,
   "id": "b9ba887d-bdfd-48c3-ac01-4eae3060d995",
   "metadata": {},
   "outputs": [],
   "source": [
    "#Q13.What is the significance of the measure of central tedency?\n",
    "Ans=The measures of central tedency- mean.media,mode-are significant because they provide a single value that summarizes or represents the center\n",
    "point of a dataset.Here why they are important.\n",
    "1.Simplifying Complex Data:\n",
    ".They help to summarize larg sets of data with a single representative value.\n",
    "Example: instead of listig all student scores,a eacher might say \"the class was average was 75.\"\n",
    "\n",
    "2.Comparison Across Groups\n",
    ".Central tedency measures allow you to compare different groups .\n",
    "Example: Comparing the average income of two cities.\n",
    "\n",
    "3.Understanding Data Distribution \n",
    "They give insights inti how data values are distributed.\n",
    ".Mean is affected by all values\n",
    ".Median is resistant to outliers\n",
    ".Mode tels you what most common.\n",
    "\n",
    "4.Foundation for further Analysis\n",
    ".Measure of central tedency are often he first step in data analysis.\n",
    ".They are used to calculate other statistical concepts like variance ,standard deviation,and skewness."
   ]
  },
  {
   "cell_type": "code",
   "execution_count": null,
   "id": "d432b034-007b-4e03-a969-031a2788ee50",
   "metadata": {},
   "outputs": [],
   "source": [
    "#Q14.What is the variance,and how is it calculated?\n",
    "Ans=Variance is a statistical measure that tells you ow spread out the valuesi in a dataset are from the mean.\n",
    ".A low variance means the values are close to he mean.\n",
    ".A high variance means the values are spread out over a wider range.\n",
    "\n",
    "How is variance calculated:\n",
    "There are two cammon types:\n",
    ".Population Variance(used when you have data for the entire population)\n",
    ".Sample Variance(used when your data is a sample of a larger population)\n",
    "#example:\n",
    "Suppose we have this sample data:4,8,6\n",
    "1.Mean=4+8+6/3=6\n",
    "2.Find squared difference from the mean:\n",
    "4-6=2,square of 2=4\n",
    "8-6=2,square of 2=4\n",
    "6-6=0,square of 0=0\n",
    "3.Add them :4+4+0=8\n",
    "4.Divide by n-1=2:\n",
    "sample variance=8/2=4\n",
    "\n",
    "\n",
    "\n",
    "    \n"
   ]
  },
  {
   "cell_type": "code",
   "execution_count": null,
   "id": "b279418b-a662-4d03-bc4a-78485227fcfa",
   "metadata": {},
   "outputs": [],
   "source": [
    "#Q15.What is the standard deviation,and why is it important?\n",
    "Ans=Standard deviation is a measure of how spread out or dispersed the values in a datase are around the mean(average).\n",
    ".A low standard deviation means most values are close to the mean.\n",
    ".A high stadard deviation means values are more spread out.\n",
    "Example:\n",
    "let use the same smple 4,8,6\n",
    ".We already found the sample variance =4\n",
    "s=Square root of 4=2\n",
    "Why is Standard Deviation Important \n",
    "1.Undersatnd Data spread\n",
    ".Tells you how much variation there is in your data.\n",
    ".Useful in grading,business,qulity control,and reasearch.\n",
    "\n",
    "2.Compare Consistency\n",
    ".Lower standard deviation=more consistent or predictable data.\n",
    "\n",
    "3.Detect Outliers\n",
    ".Data points far from the mean(more than 2 or 3 standard deviation) may be outliers.\n",
    "\n",
    "                            "
   ]
  },
  {
   "cell_type": "code",
   "execution_count": null,
   "id": "5d5a3f31-c47b-41c2-916b-e8d587b93d26",
   "metadata": {},
   "outputs": [],
   "source": [
    "#Q16.Define and explain the term range in statistics.\n",
    "\n",
    "Ans=The range is the simplest measure of dispersion in statistics.\n",
    "It tells you the difference between the highest and lowest values in a dataset.\n",
    "\n",
    "Formula=Maximum value - Minimum value\n",
    "\n",
    "Example:\n",
    "\n",
    "Let say you have the dataset:\n",
    "3,7,10,15,20\n",
    "\n",
    ".Maximum value=20\n",
    ".Minimum value=3\n",
    "Range=20-3=17\n",
    "\n",
    "Range Important:\n",
    "1.Gives a quick Sense of Spread:\n",
    "2.Useful for Comparing Variability:\n",
    "3.Helps Identity Ereme Values:\n",
    "\n"
   ]
  },
  {
   "cell_type": "code",
   "execution_count": null,
   "id": "39cd76c7-20d8-4981-af9b-3e9acbc4238a",
   "metadata": {},
   "outputs": [],
   "source": [
    "#Q17.What is the difference between variance and standard deviation?\n",
    "Ans=Variance:\n",
    "Definition: The average of the squared differnece from the mean\n",
    "Purpose : Measures how far data points arecspread out from the mean\n",
    "Units:Square of units(e.g.cm**2,kg**2)\n",
    "Example=let say your dataset 4,8,6\n",
    ".Mean=6\n",
    "Square difference:\n",
    "4-6=2,square of 2=4\n",
    "8-6=2,square of 2=4\n",
    "6-6=0,square of 0=0\n",
    "Add them :4+4+0=8\n",
    "variance=8/2=4\n",
    "\n",
    "Standard deviation:\n",
    "Definition=The square root of the variance \n",
    "Purpose: Measures the average distance of data points from the mean.\n",
    "Units example=Same units as data(e.g,cm,kg)\n",
    "Example=let say your dataset 4,8,6\n",
    ".Mean=6\n",
    "Square difference:\n",
    "4-6=2,square of 2=4\n",
    "8-6=2,square of 2=4\n",
    "6-6=0,square of 0=0\n",
    "Add them :4+4+0=8\n",
    "variance=8/2=4\n",
    "standard deviation=square root of 4=2\n",
    "\n"
   ]
  },
  {
   "cell_type": "code",
   "execution_count": null,
   "id": "1503632e-deba-4c26-9a3c-601fa1bd541e",
   "metadata": {},
   "outputs": [],
   "source": [
    "#Q18.What is the skewness in a dataset?\n",
    "Ans=Skewness is a statistical measure that tells you about he asymmetry of a dataset distribution around its mean.\n",
    "In simple terms it shows  wheather the data is symmetrical or leans more to one side.\n",
    "\n",
    "Skewness Visualization:\n",
    "Negative Skew         Symmetrical\n",
    "Positive Skew             ^    \n",
    "       <\n",
    ">\n",
    "    tail                  balanced\n",
    "tail\n",
    "\n",
    "Why is skewness important\n",
    "\n",
    ".Influences which statistical tests you use(some assume normal distribution)\n",
    ".Affects the relationship between mean,median,mode.\n",
    ".Helps detect outliers or long tails in financial or scientific data.\n",
    "\n"
   ]
  },
  {
   "cell_type": "code",
   "execution_count": null,
   "id": "f384880b-fbc0-4db7-b13a-d1dc03cca6b7",
   "metadata": {},
   "outputs": [],
   "source": [
    "#Q19.What does it mean if a dataset is positively or negatively skewed?\n",
    "Ans=When we say a dataset is positively or negatively skewed,we are talking about the shape of its distribution-how the data values are spread out\n",
    "round the mean.\n",
    "1.Positively skewed \n",
    ".Definition :A Distribution is positively skewed if the right tail is longer than the left.\n",
    "Characteristics:\n",
    ".Mean>Median>Mode\n",
    ".Long Tail to the right\n",
    ".Examples: Incomes n a population (mst people earn average or below-average,but a few earn much more)\n",
    "\n",
    "2.Negatively Skewed\n",
    ".Definition: A distribution is negatively skewed if the left tail is longer than the right.\n",
    "\n",
    "Characteristics:\n",
    ".Mean<Median<Mode\n",
    ".Long tail to the left \n",
    ".Examples: test sores where most students score high but  a few get vary low marks\n",
    "\n"
   ]
  },
  {
   "cell_type": "code",
   "execution_count": null,
   "id": "5b5ee0be-06f7-42aa-9eee-9486398a1821",
   "metadata": {},
   "outputs": [],
   "source": [
    "#Q20.Define and explain kurtosis.\n",
    "Ans=Kurtosis is a statical measure that describe the \"tailedness\", of a distribution-In oter words,it tells you how sharp or flat the peak\n",
    "is and how heavy or light the tails are compared to a normal distribution.\n",
    "\n",
    "key Interpretations:\n",
    "1.Leptokurtic:\n",
    "    .Distribution has more extreme outliers\n",
    "    .Example:Stock market returns \n",
    "2.Platykuric:\n",
    "    .Disribution is more uniform,fewer extreme values \n",
    "    .Example:Test scores where most students scored similarly\n",
    "3.Mesokurtic:\n",
    ".similar to normal distribution.\n",
    ".Balanced tails and peak.\n",
    "\n",
    "Example:\n",
    "Imagine two datasets with he same mean and standard deviation :\n",
    ".Dataset A: Most values are close to the mean\n",
    ".Dataset B: has a few extreme values far from the mean.\n",
    "\n"
   ]
  },
  {
   "cell_type": "code",
   "execution_count": null,
   "id": "8ce81d22-0fb6-47c3-b789-88a71021430c",
   "metadata": {},
   "outputs": [],
   "source": [
    "#Q21.What is the purpose of covariance and correlation?\n",
    "Ans=1.Covariance: \n",
    "Purpose:\n",
    ".Indicates wheather two cariables increase or decrease together.\n",
    ".Show the direction of the relationship:\n",
    ".Positive Covariance: both variables move in the same direction.\n",
    ".Negative covariance:variables move in opposite directions.\n",
    ".Zero covariance:no linear relationship.\n",
    "example :\n",
    "if height and weight have positive covariance,it means taller people tend to weight more-but we do not know how stronglt just from the covariance\n",
    "value.\n",
    "2.Correlation\n",
    ".Purpose:\n",
    ".Show both the strength and direction of the relationship between two variables:\n",
    "The result is standardized:always between -1 and +1:\n",
    ".+1:perfect positive linear realtionship\n",
    ".-1:perfect negative linear relationship\n",
    ".0:no linear relationship\n",
    "\n",
    "Esaier to Interpret:\n",
    ".because it unitiles, you can compare correlations across different pairs of variables."
   ]
  },
  {
   "cell_type": "code",
   "execution_count": null,
   "id": "9e1d897a-619e-47d6-ace7-057d7e17c301",
   "metadata": {},
   "outputs": [],
   "source": [
    "#Q22.What does correlation measure in statistics?\n",
    "Ans=In statistics,correlation measures the strength and drection of a linear realtionship between two quantitative variables.\n",
    "What correlation tells you:\n",
    "Strength: How closely two variables are related do they change together.\n",
    "Direction: Wheather they increase together or move oppositely.\n",
    "form:Only captures linear relationships\n",
    "\n",
    ".Correlations Coffecient(r):\n",
    "The most common correlation is Pearson correlation coffecient  denoted as r:\n",
    "r value:\n",
    "+1  =Perfect positive linear relationship\n",
    "0=No linear relationship\n",
    "-1=Perfect negative linear relationship\n",
    "\n",
    "Example:\n",
    ".r=+0.9 -> Strong positive : AS study time increase ,test scores increase.\n",
    ".r=-0.8 -> Strong negative : As exercise time increase,stress levels descrease.\n",
    ".r=0 -> No clear relationship: Shoe size and inteligence.\n",
    "0=\n",
    "\n",
    "\n"
   ]
  },
  {
   "cell_type": "code",
   "execution_count": null,
   "id": "60f263f7-9102-46d2-a16f-95c38e390a2d",
   "metadata": {},
   "outputs": [],
   "source": [
    "#Q23.What is the difference between correlation and covariance?\n",
    "Ans=Covariance:\n",
    "Definition: Measures the direction of the linear relationship between two variables:\n",
    "Scale/Units:Not standardized,result deppends on units of the variable:\n",
    "Interpretability: Harder to interpret \n",
    "Rnage of values: From -infinte to +infinte\n",
    "Main use: Intermediate step in other statical analysis.\n",
    "\n",
    "\n",
    "Covariance:\n",
    "Definition:Measures the strength and direction of the linera realtionship\n",
    "Scale/Units:Standardized always between -1 and +1 \n",
    "Interpretability:easy to interpret \n",
    "Range of values: Always between -1 and +1\n",
    "Main use: For clear interpretation of the relationship strength.\n"
   ]
  },
  {
   "cell_type": "code",
   "execution_count": null,
   "id": "1bcb2804-d921-4c05-9620-bd5c867a3b70",
   "metadata": {},
   "outputs": [],
   "source": [
    "#Q24.What are some real-world application in statistics.\n",
    "Ans=Statistics is used everywhere from dailydecesion-making to advanced scientific research.\n",
    "1.Business  and Economics:\n",
    ".Market Research:Analysing customer preferences,behaviour.\n",
    ".Risk Analysis:it used in finanance and insurence to ases uncertainty and positential losses.\n",
    "\n",
    "2.Medicine and Healthcare:\n",
    ".Clinical Trails:Testing the effectiveness nd safety of new drugs or treatments.\n",
    ".Medical Diagonsis:Using data models to pedict disease risk.\n",
    "\n",
    "3.Education :\n",
    "Standard Testing: Interpreting student performance using statistical scores.\n",
    "Enrollment Projections: Predicting future student numbers for planning.\n",
    "\n",
    "4.Finance and investment:\n",
    ".Stock Market Analysis:Identifying trends and volatility using time series analysis.\n",
    ".Credit Scoring: Predicting  a person ability to repay loans.\n",
    "                                                         "
   ]
  },
  {
   "cell_type": "markdown",
   "id": "0ab9b450-4599-4b40-9031-cd49f96af262",
   "metadata": {},
   "source": [
    "# Practical Question"
   ]
  },
  {
   "cell_type": "code",
   "execution_count": null,
   "id": "ac37ead1-705a-49f5-9159-8b7aa3d4a21b",
   "metadata": {},
   "outputs": [],
   "source": [
    "#Q1.How do you calculate mean, mode and median of a dataset?\n",
    "#solution \n",
    "dataset=[2,4,6,8,10]\n",
    "Mean=(2+4+6+8+10)/5=30/5=6\n",
    "\n",
    "Median=Sort the data.\n",
    "\n",
    "data=[2,4,6,8,10]\n",
    "it is odd count:\n",
    "median=6\n",
    "\n",
    "Mode:\n",
    "Data=[1,2,3,4,4,6]\n",
    "most frequently number is 4 then mode=4\n",
    "\n",
    "\n"
   ]
  },
  {
   "cell_type": "code",
   "execution_count": 1,
   "id": "0ac4b2bb-c630-4acc-877b-f3fa396fe1ce",
   "metadata": {},
   "outputs": [
    {
     "name": "stdout",
     "output_type": "stream",
     "text": [
      "Manual Calculation\n",
      "Population Variance:24.000000\n",
      "population Standard Deviation:4.90\n",
      "\n",
      "Using statistics module (sample stats):\n",
      "Sample Variance: 27.43\n",
      "Sample Standard DEviation:5.237229\n"
     ]
    }
   ],
   "source": [
    "#Q2.Write a python program to compute the variance and  standard deviation of a dataset.\n",
    "#solution\n",
    "import math\n",
    "import statistics\n",
    "#sample dataset\n",
    "data=[10,12,23,23,16,23,21,16]\n",
    "#Manual calculation\n",
    "def mean(data):\n",
    "    return sum(data)/len(data)\n",
    "def variance(data):\n",
    "    m=mean(data)\n",
    "    return sum((x-m)**2 for x in data)/len(data)\n",
    "def standard_deviation(data):\n",
    "    return math.sqrt(variance(data))\n",
    "#Using statistics module\n",
    "sample_variance=statistics.variance(data)\n",
    "sample_std_dev=statistics.stdev(data)\n",
    "\n",
    "population_variance=variance(data)\n",
    "population_std_dev=standard_deviation(data)\n",
    "\n",
    "print(\"Manual Calculation\")\n",
    "print(f\"Population Variance:{population_variance:2f}\")\n",
    "print(f\"population Standard Deviation:{population_std_dev:.2f}\")\n",
    "print(\"\\nUsing statistics module (sample stats):\")\n",
    "print(f\"Sample Variance: {sample_variance:.2f}\")\n",
    "print(f\"Sample Standard DEviation:{sample_std_dev:2f}\")"
   ]
  },
  {
   "cell_type": "code",
   "execution_count": 5,
   "id": "d5b79aec-3f72-4bdb-bd6f-3874f7ceb43c",
   "metadata": {},
   "outputs": [
    {
     "name": "stdout",
     "output_type": "stream",
     "text": [
      "===DataFrame===\n",
      "   Id   Name  Gender Education Level Satisfaction Level  Tempreture  Age  \\\n",
      "0   1  Alice  Female      Bachelor's     Very satisfied          25   30   \n",
      "1   2    Bob    Male        master's          Satisfied          22   45   \n",
      "2   3  Carol  Female     High School            Netural          18   35   \n",
      "3   4  David    Male             PhD       Dissatisfied          30   50   \n",
      "\n",
      "   Income($)  \n",
      "0      50000  \n",
      "1      65000  \n",
      "2      40000  \n",
      "3      80000  \n",
      "\n",
      "=== Variable Classification ===\n",
      "Id:Nominal\n",
      "Name:Nominal\n",
      "Gender:Nominal\n",
      "Education Level:Ordinal\n",
      "Satisfaction Level:Unknown\n",
      "Tempreture:Interval\n",
      "Age:Ratio\n",
      "Income($):Ratio\n"
     ]
    }
   ],
   "source": [
    "#Q3.Create a dataset and classify it into nominal,ordinal,interval and ratio types.\n",
    "#solution\n",
    "import pandas as pd\n",
    "#samle of dataset\n",
    "data={\"Id\":[1,2,3,4],\"Name\":[\"Alice\",\"Bob\",\"Carol\",\"David\"],\"Gender\":[\"Female\",\"Male\",\"Female\",\"Male\"],\"Education Level\":['Bachelor\\'s','master\\'s',\n",
    "\"High School\",\"PhD\"],\"Satisfaction Level\":[\"Very satisfied\",\"Satisfied\",\"Netural\",\"Dissatisfied\"],\"Tempreture\":[25,22,18,30],\"Age\":[30,45,35,50],\n",
    "      \"Income($)\":[50000,65000,40000,80000]}\n",
    "#Create DataFrame\n",
    "df=pd.DataFrame(data)\n",
    "#Manual mapping of variable tyes\n",
    "classification={\"Id\":\"Nominal\",\"Name\":\"Nominal\",\"Gender\":\"Nominal\",\"Education Level\":\"Ordinal\",\"satisfaction Level\":\"Ordinal\",\"Tempreture\":\"Interval\",\n",
    "                \"Age\":\"Ratio\",\"Income($)\":\"Ratio\"}\n",
    "#print DataFrame\n",
    "print(\"===DataFrame===\")\n",
    "print(df)\n",
    "#print classification\n",
    "print(\"\\n=== Variable Classification ===\")\n",
    "for column in df.columns:\n",
    "    print(f\"{column}:{classification.get(column,'Unknown')}\")"
   ]
  },
  {
   "cell_type": "code",
   "execution_count": 6,
   "id": "1bccce40-fda8-4261-a46f-5dab618b4cc8",
   "metadata": {},
   "outputs": [
    {
     "name": "stdout",
     "output_type": "stream",
     "text": [
      "Random Sample\n",
      "    Name  Age Gender\n",
      "8    Ian   27      M\n",
      "1    Bob   30      M\n",
      "5  Frank   28      M\n",
      "Stratified Sample\n",
      "[      Name  Age Gender\n",
      "2  Charlie   35      M\n",
      "7   Hannah   38      F\n",
      "4      Eva   22      F\n",
      "5    Frank   28      M\n",
      "9     Jack   24      M\n",
      "1      Bob   30      M\n",
      "0    Alice   25      F,     Name  Age Gender\n",
      "6  Grace   32      F\n",
      "8    Ian   27      M\n",
      "3  David   40      M]\n"
     ]
    }
   ],
   "source": [
    "#Q4.Implement sampling techniques like random sampling and stratified sampling?\n",
    "#solution\n",
    "data={\"Name\":[\"Alice\",\"Bob\",\"Charlie\",\"David\",\"Eva\",\"Frank\",\"Grace\",\"Hannah\",\"Ian\",\"Jack\"],\"Age\":[25,30,35,40,22,28,32,38,27,24],\"Gender\":\n",
    "      [\"F\",\"M\",\"M\",\"M\",\"F\",\"M\",\"F\",\"F\",\"M\",\"M\"]}\n",
    "df=pd.DataFrame(data)\n",
    "\n",
    "#Random sampling\n",
    "#Random sample 30% of the data \n",
    "random_sample=df.sample(frac=0.3,random_state=42)\n",
    "print(\"Random Sample\")\n",
    "print(random_sample)\n",
    "\n",
    "#Strafied Sampling\n",
    "\n",
    "from sklearn.model_selection import train_test_split\n",
    "stratified_sample=train_test_split(df,test_size=0.3,stratify=df[\"Gender\"],random_state=42)\n",
    "print(\"Stratified Sample\")\n",
    "print(stratified_sample)"
   ]
  },
  {
   "cell_type": "code",
   "execution_count": 9,
   "id": "d198536c-c8ba-4ffb-b87c-db1aa6fb65a7",
   "metadata": {},
   "outputs": [
    {
     "name": "stdout",
     "output_type": "stream",
     "text": [
      "Range of dataset: 45\n"
     ]
    }
   ],
   "source": [
    "#Q5.Write a python function to calculate range of dataset.\n",
    "#solution\n",
    "def calculate_range(data):\n",
    "    if not data:\n",
    "        raise ValueError(\"The dataset is empty\")\n",
    "    return max(data)-min(data)\n",
    "data=[10,22,35,47,50,15,5]\n",
    "print(\"Range of dataset:\",\n",
    "calculate_range(data))\n"
   ]
  },
  {
   "cell_type": "code",
   "execution_count": 10,
   "id": "0eaf0ea9-ac96-4588-8a11-43b0abbe7388",
   "metadata": {},
   "outputs": [
    {
     "data": {
      "image/png": "[encoded data removed]",
      "text/plain": [
       "<Figure size 800x500 with 1 Axes>"
      ]
     },
     "metadata": {},
     "output_type": "display_data"
    }
   ],
   "source": [
    "#Q6.Create a dataset and plot its hstogram to visualize skewness.\n",
    "#Solution\n",
    "import numpy as np\n",
    "import matplotlib.pyplot as plt\n",
    "from scipy.stats import skew\n",
    "\n",
    "#create a positevely skewed dataset\n",
    "np.random.seed(0)\n",
    "data=np.random.exponential(scale=2.0,size=1000)\n",
    "#compute skewness\n",
    "data_skewness=skew(data)\n",
    "#plot histogram\n",
    "plt.figure(figsize=(8,5))\n",
    "plt.hist(data,bins=30,color=\"skyblue\",edgecolor=\"black\")\n",
    "plt.title(f\"Histogram of skewed Data(Skewness={data_skewness:.2f})\")\n",
    "plt.xlabel(\"Value\")\n",
    "plt.ylabel(\"Frequency\")\n",
    "plt.grid(True)\n",
    "plt.show()"
   ]
  },
  {
   "cell_type": "code",
   "execution_count": 1,
   "id": "ff2b3aba-808d-41ba-a907-c5d31fd19c05",
   "metadata": {},
   "outputs": [
    {
     "name": "stdout",
     "output_type": "stream",
     "text": [
      "Skewness: -0.363596133694378\n",
      "Kurtosis: -1.3984375\n",
      "Skewness: -0.4534840531466717\n",
      "Kurtosis: -1.5367187500000004\n"
     ]
    }
   ],
   "source": [
    "#Q7.Calculate skewness and kurtosis of a datset using python libraries.\n",
    "#Solution \n",
    "#Using scipy.stats\n",
    "import numpy as np\n",
    "from scipy.stats import skew,kurtosis\n",
    "data=[10,12,23,23,16,23,21,16]\n",
    "skewness=skew(data)\n",
    "kurt=kurtosis(data)\n",
    "print(\"Skewness:\",skewness)\n",
    "print(\"Kurtosis:\",kurt)\n",
    "\n",
    "#using pandas\n",
    "import pandas as pd\n",
    "data=pd.Series([10,12,23,23,16,23,21,16])\n",
    "skewness=data.skew()\n",
    "kurt=data.kurt()\n",
    "print(\"Skewness:\",skewness)\n",
    "print(\"Kurtosis:\",kurt)\n",
    "\n",
    "\n",
    "\n",
    "\n"
   ]
  },
  {
   "cell_type": "code",
   "execution_count": 3,
   "id": "7d16d9ba-062e-45a9-a7b5-9a67cd003693",
   "metadata": {},
   "outputs": [
    {
     "name": "stdout",
     "output_type": "stream",
     "text": [
      "Positive skewness: 1.856751591175578\n",
      "Negative skewness: -1.8222699059892786\n"
     ]
    },
    {
     "data": {
      "image/png": "[encoded data removed]",
      "text/plain": [
       "<Figure size 640x480 with 2 Axes>"
      ]
     },
     "metadata": {},
     "output_type": "display_data"
    }
   ],
   "source": [
    "#Q8.Genetrate a dataset and demonstrate positive and negative skewness.\n",
    "#Solution\n",
    "from matplotlib import pyplot as plt\n",
    "pos_skew=np.random.exponential(scale=2,size=1000)\n",
    "neg_skew=-np.random.exponential(scale=2,size=1000)\n",
    "#skewness calculation\n",
    "print(\"Positive skewness:\",skew(pos_skew))\n",
    "print(\"Negative skewness:\",skew(neg_skew))\n",
    "#Plotting\n",
    "plt.subplot(1,2,1)\n",
    "plt.hist(pos_skew,bins=30,\n",
    "color=\"lightblue\")\n",
    "plt.title(\"Positive Skew\")\n",
    "\n",
    "plt.subplot(1,2,2)\n",
    "plt.hist(neg_skew,bins=30,\n",
    "color=\"lightcoral\")\n",
    "plt.title(\"Negative Skew\")\n",
    "\n",
    "plt.tight_layout()\n",
    "plt.show()\n",
    "\n",
    "\n",
    "\n"
   ]
  },
  {
   "cell_type": "code",
   "execution_count": 4,
   "id": "c500b0d6-e5b1-4af9-b299-accc74d109cd",
   "metadata": {},
   "outputs": [
    {
     "name": "stdout",
     "output_type": "stream",
     "text": [
      "Covariance: 10.0\n"
     ]
    }
   ],
   "source": [
    "#Q9.Write a python scripts to calculate the covariance  between two datasets.\n",
    "#Solution\n",
    "import numpy as np\n",
    "#Sample data\n",
    "x=[2,4,6,8,10]\n",
    "y=[1,3,5,7,9]\n",
    "\n",
    "#Covariance using NumPy\n",
    "cov=np.cov(x,y)[0,1]\n",
    "print(\"Covariance:\",cov)"
   ]
  },
  {
   "cell_type": "code",
   "execution_count": 5,
   "id": "a4185a5a-098c-44bf-bcf3-6c9483fe8167",
   "metadata": {},
   "outputs": [
    {
     "name": "stdout",
     "output_type": "stream",
     "text": [
      "Correlation Coeficient: 0.9999999999999999\n"
     ]
    }
   ],
   "source": [
    "#Q10.Write a python scripts to calculate the correlation cofficient between two datasets.\n",
    "#Solution\n",
    "import numpy as np\n",
    "\n",
    "#Sample datasets\n",
    "x=[2,4,6,8,10]\n",
    "y=[1,3,5,7,9]\n",
    "\n",
    "#Correlation Coffecient\n",
    "\n",
    "corr=np.corrcoef(x,y)[0,1]\n",
    "print(\"Correlation Coeficient:\",corr)"
   ]
  },
  {
   "cell_type": "code",
   "execution_count": 6,
   "id": "35fcb799-a4ae-4fcc-81d3-39e8c5d3f68a",
   "metadata": {},
   "outputs": [
    {
     "data": {
      "image/png": "[encoded data removed]",
      "text/plain": [
       "<Figure size 640x480 with 1 Axes>"
      ]
     },
     "metadata": {},
     "output_type": "display_data"
    }
   ],
   "source": [
    "#Q11.create a scatter plot to visualize the relation between two variables.\n",
    "#Solution\n",
    "import matplotlib.pyplot as plt\n",
    "#sample data\n",
    "\n",
    "x=[2,4,6,8,10]\n",
    "y=[1,3,5,7,9]\n",
    "\n",
    "#Create scatter plot\n",
    "plt.scatter(x,y,color=\"blue\")\n",
    "\n",
    "#Add title and labels\n",
    "plt.title(\"Scatter Plot of x vs y\")\n",
    "plt.xlabel(\"X\")\n",
    "plt.ylabel(\"Y\")\n",
    "\n",
    "#show plot\n",
    "plt.show()\n"
   ]
  },
  {
   "cell_type": "code",
   "execution_count": 8,
   "id": "01131856-1aaf-4beb-b447-ccb71e42385c",
   "metadata": {},
   "outputs": [
    {
     "name": "stdout",
     "output_type": "stream",
     "text": [
      "Population Mean:50.5\n",
      "SRS Mean:62.4\n",
      "Systemetic Mean:54.0\n"
     ]
    }
   ],
   "source": [
    "#Q12.Implement and  compare simple random sampling and systematic sampling.\n",
    "#Solution\n",
    "#Generate population\n",
    "import numpy as np\n",
    "import matplotlib.pyplot as plt \n",
    "\n",
    "#population\n",
    "N=100\n",
    "population=np.arange(1,N+1)\n",
    "#sample size\n",
    "n=10\n",
    "\n",
    "#sample random\n",
    "srs_sample=np.random.choice(population,size=n, replace=False)\n",
    "\n",
    "#Systemetic sampling\n",
    "k=N//n\n",
    "start=np.random.randint(0,k)\n",
    "sys_sample=population[start::k][:n]\n",
    "\n",
    "#Comparison\n",
    "srs_mean=np.mean(srs_sample)\n",
    "sys_mean=np.mean(sys_sample)\n",
    "pop_mean=np.mean(population)\n",
    "\n",
    "print(f\"Population Mean:{pop_mean}\")\n",
    "print(f\"SRS Mean:{srs_mean}\")\n",
    "print(f\"Systemetic Mean:{sys_mean}\")\n",
    "\n",
    "\n"
   ]
  },
  {
   "cell_type": "code",
   "execution_count": 52,
   "id": "71275b3d-0d68-418a-9e24-2bc548663ac5",
   "metadata": {},
   "outputs": [
    {
     "name": "stdout",
     "output_type": "stream",
     "text": [
      "Mean:27.00\n",
      "Median:28.000000\n",
      "Mode:30.91\n"
     ]
    }
   ],
   "source": [
    "#Q13.Calculate the mean,mode,median of grouped data.\n",
    "#Solution\n",
    "c=[(0,10),(10,20),(20,30),(30,40),(40,50)]\n",
    "f=[5,8,15,16,6]\n",
    "m=[(x+y)/2 for x,y in c]\n",
    "N=sum(f)\n",
    "\n",
    "mean=sum(fi*mi for fi,mi in zip(f,m))/N\n",
    "cf=[sum(f[:i+1]) for i in range(len(f))]\n",
    "median_class=next(i for i ,v in enumerate(cf) if v>=N/2)\n",
    "L=c[median_class][0]\n",
    "h=c[median_class][1]-c[median_class][0]\n",
    "F=cf[median_class-1] if median_class>0 else 0\n",
    "median=L+((N/2-F)/f[median_class])*h\n",
    "\n",
    "mode_class=f.index(max(f))\n",
    "Lm=c[mode_class][0]\n",
    "f1=f[mode_class]\n",
    "f0=f[mode_class-1] if mode_class>0 else 0\n",
    "f2=f[mode_class+1] if mode_class<len(f)-1 else 0\n",
    "mode=Lm+((f1-f0)/(2*f1-f0-f2))*h\n",
    "print(f\"Mean:{mean:.2f}\")\n",
    "print(f\"Median:{median:2f}\")\n",
    "print(f\"Mode:{mode:.2f}\")\n",
    "\n",
    "\n"
   ]
  },
  {
   "cell_type": "code",
   "execution_count": 25,
   "id": "102581bb-0b79-4f3d-bac1-dbe4c1fe33ff",
   "metadata": {},
   "outputs": [
    {
     "name": "stdout",
     "output_type": "stream",
     "text": [
      "Mean:59.626062\n",
      "Median:60.261633\n",
      "Mode:25.913496\n",
      "Range:62.954675\n",
      "Std Dev:13.960838\n",
      "Variance:194.905010\n",
      "IQR:20.117786\n"
     ]
    }
   ],
   "source": [
    "#Q14.Simulate data using Python and calculate its central tendency and dispersion.\n",
    "#Solution\n",
    "import numpy as np\n",
    "from scipy import stats\n",
    "\n",
    "#Data simulate karo\n",
    "data=np.random.normal(60,15,50)\n",
    "\n",
    "#central tedency\n",
    "mean=np.mean(data)\n",
    "median=np.median(data)\n",
    "mode=stats.mode(data,keepdims=True).mode[0]\n",
    "\n",
    "#Despersion\n",
    "range_=np.ptp(data)\n",
    "std=np.std(data)\n",
    "var=np.var(data)\n",
    "iqr=np.percentile(data,75)-np.percentile(data,25)\n",
    "\n",
    "#result\n",
    "print(f\"Mean:{mean:2f}\")\n",
    "print(f\"Median:{median:2f}\")\n",
    "print(f\"Mode:{mode:2f}\")\n",
    "print(f\"Range:{range_:2f}\")\n",
    "print(f\"Std Dev:{std:2f}\")\n",
    "print(f\"Variance:{var:2f}\")\n",
    "print(f\"IQR:{iqr:2f}\")\n"
   ]
  },
  {
   "cell_type": "code",
   "execution_count": 29,
   "id": "34ad7216-b094-4eb1-8acc-ef5a020c1416",
   "metadata": {},
   "outputs": [
    {
     "name": "stdout",
     "output_type": "stream",
     "text": [
      "             Age        Salary\n",
      "count   5.000000      5.000000\n",
      "mean   31.600000  62600.000000\n",
      "std     8.820431  14449.913495\n",
      "min    23.000000  48000.000000\n",
      "25%    25.000000  50000.000000\n",
      "50%    30.000000  60000.000000\n",
      "75%    35.000000  75000.000000\n",
      "max    45.000000  80000.000000\n",
      "Mean:31.6,Std:7.889233169326409,Min:(min_val),Max:45,Q1:25.0,Median:30.0,Q3:35.0\n"
     ]
    }
   ],
   "source": [
    "#Q15.Use NumPy or pandas to summarize a dataset descriptive statistics.\n",
    "#Solution \n",
    "import pandas as pd\n",
    "data={\"Age\":[25,30,45,35,23],\"Salary\":[50000,60000,80000,75000,48000]}\n",
    "df=pd.DataFrame(data)\n",
    "summary=df.describe()\n",
    "print(summary)\n",
    "\n",
    "#Using Numpy\n",
    "import numpy as np\n",
    "ages=np.array([25,30,45,35,23])\n",
    "\n",
    "mean=np.mean(ages)\n",
    "std=np.std(ages)\n",
    "min_val=np.min(ages)\n",
    "max_val=np.max(ages)\n",
    "q25=np.percentile(ages,25)\n",
    "q50=np.percentile(ages,50)\n",
    "q75=np.percentile(ages,75)\n",
    "\n",
    "print(f\"Mean:{mean},Std:{std},Min:(min_val),Max:{max_val},Q1:{q25},Median:{q50},Q3:{q75}\")"
   ]
  },
  {
   "cell_type": "code",
   "execution_count": 32,
   "id": "19d2c1b4-e3b9-42a4-bf56-084536baa2b6",
   "metadata": {},
   "outputs": [
    {
     "data": {
      "image/png": "[encoded data removed]",
      "text/plain": [
       "<Figure size 640x480 with 1 Axes>"
      ]
     },
     "metadata": {},
     "output_type": "display_data"
    }
   ],
   "source": [
    "#Q16.Plot a boxplot to understand the spread and indentify outliers.\n",
    "#solution\n",
    "import pandas as pd\n",
    "import matplotlib.pyplot as plt\n",
    "data={\"Age\":[25,30,45,35,23,60,22,100],\"Salary\":[50000,60000,80000,75000,48000,120000,47000,200000]\n",
    "      }\n",
    "df=pd.DataFrame(data)\n",
    "df.boxplot(column=[\"Age\",\"Salary\"])\n",
    "plt.title(\"Boxplot of age and Salary\")\n",
    "plt.ylabel(\"Values\")\n",
    "plt.grid(True)\n",
    "plt.show()"
   ]
  },
  {
   "cell_type": "code",
   "execution_count": 33,
   "id": "3f90daeb-5d83-4999-a1fe-80c843ed0f26",
   "metadata": {},
   "outputs": [
    {
     "name": "stdout",
     "output_type": "stream",
     "text": [
      "Q1:24.5,Q3:48.75,IQR:24.25\n"
     ]
    }
   ],
   "source": [
    "#Q17.Calculate the interquartile range of a datset.\n",
    "#Solution\n",
    "import numpy as np\n",
    "data=np.array([25,30,45,35,23,60,22,100])\n",
    "\n",
    "#Calculate IQR\n",
    "Q1=np.percentile(data,25)\n",
    "Q3=np.percentile(data,75)\n",
    "IQR=Q3-Q1\n",
    "print(f\"Q1:{Q1},Q3:{Q3},IQR:{IQR}\")\n"
   ]
  },
  {
   "cell_type": "code",
   "execution_count": 35,
   "id": "ff4eb89c-44c9-47f9-ac48-3a85e2e4e640",
   "metadata": {},
   "outputs": [
    {
     "name": "stdout",
     "output_type": "stream",
     "text": [
      "   Age  Age_zscore\n",
      "0   25   -0.658888\n",
      "1   30   -0.470634\n",
      "2   45    0.094127\n",
      "3   35   -0.282381\n",
      "4   23   -0.734189\n",
      "5   60    0.658888\n",
      "6   22   -0.771840\n",
      "7  100    2.164917\n"
     ]
    }
   ],
   "source": [
    "#Q18.Implement Z_Score normlization and explain its significance .\n",
    "#Solution\n",
    "import pandas as pd\n",
    "data={\"Age\":[25,30,45,35,23,60,22,100]}\n",
    "df=pd.DataFrame(data)\n",
    "#Z-score normalization\n",
    "df[\"Age_zscore\"]=(df[\"Age\"]-df[\"Age\"].mean())/df[\"Age\"].std()\n",
    "print(df)"
   ]
  },
  {
   "cell_type": "code",
   "execution_count": 37,
   "id": "ccd8a03f-2c9c-4a2b-ac7a-80b615afbbdc",
   "metadata": {},
   "outputs": [
    {
     "name": "stdout",
     "output_type": "stream",
     "text": [
      "standard Deviation of math scores:9.34\n",
      "standard Deviation of English scores:6.96\n"
     ]
    }
   ],
   "source": [
    "#Q19.Compare two dataset and using their standard deviation.\n",
    "#solution\n",
    "import pandas as pd\n",
    "data={\"Math\":[80,88,78,68,92],\"English\":[78,89,95,88,80]}\n",
    "df=pd.DataFrame(data)\n",
    "#calculate stadard deviation\n",
    "std_math=df[\"Math\"].std()\n",
    "std_english=df[\"English\"].std()\n",
    "\n",
    "print(f\"standard Deviation of math scores:{std_math:.2f}\")\n",
    "print(f\"standard Deviation of English scores:{std_english:.2f}\")\n"
   ]
  },
  {
   "cell_type": "code",
   "execution_count": 38,
   "id": "8de24a2d-13f9-4053-9f1d-3452713000c6",
   "metadata": {},
   "outputs": [
    {
     "data": {
      "image/png": "[encoded data removed]",
      "text/plain": [
       "<Figure size 800x600 with 2 Axes>"
      ]
     },
     "metadata": {},
     "output_type": "display_data"
    }
   ],
   "source": [
    "#Q20.Write a python program to visualize covariance using a heatmap.\n",
    "#Solution\n",
    "import seaborn as sns\n",
    "data={\"Math\":[80,88,78,68,92],\"English\":[86,80,96,68,90],\"Science\":[87,89,74,69,99]}\n",
    "df=pd.DataFrame(data)\n",
    "#Compute covariance\n",
    "cov_matrix=df.cov()\n",
    "\n",
    "#plot heatmap\n",
    "plt.figure(figsize=(8,6))\n",
    "sns.heatmap(cov_matrix,annot=True,cmap='coolwarm',fmt=\".2f\")\n",
    "plt.title(\"Covarince Heatmap\")\n",
    "plt.show()\n"
   ]
  },
  {
   "cell_type": "code",
   "execution_count": 39,
   "id": "8e8cfbcf-3852-43f2-b065-0c159dc1f2dd",
   "metadata": {},
   "outputs": [
    {
     "data": {
      "image/png": "[encoded data removed]",
      "text/plain": [
       "<Figure size 800x600 with 2 Axes>"
      ]
     },
     "metadata": {},
     "output_type": "display_data"
    }
   ],
   "source": [
    "#Q21.Use seaborn to create a correlation matrix for a dataset.\n",
    "#Solution\n",
    "data={\"Math\":[80,88,78,68,92],\"English\":[86,80,96,68,90],\"Science\":[87,89,74,69,99]}\n",
    "df=pd.DataFrame(data)\n",
    "#Compute correlation matrix\n",
    "corr_matrix=df.corr()\n",
    "\n",
    "#plot correlation heatmap\n",
    "plt.figure(figsize=(8,6))\n",
    "sns.heatmap(cov_matrix,annot=True,cmap='coolwarm',fmt=\".2f\")\n",
    "plt.title(\"Correlation ,matrix\")\n",
    "plt.show()\n"
   ]
  },
  {
   "cell_type": "code",
   "execution_count": 43,
   "id": "b1a1d7c2-2341-486c-a964-c4548b92cb7b",
   "metadata": {},
   "outputs": [
    {
     "name": "stdout",
     "output_type": "stream",
     "text": [
      "Original dataset:\n",
      "    Math  English\n",
      "0    98       78\n",
      "1    88       90\n",
      "2    74       94\n",
      "3    67       78\n",
      "4    80       57\n",
      "5    98       76\n",
      "6    78       56\n",
      "7    82       78\n",
      "8    70       84\n",
      "9    70       92\n",
      "\n",
      " Sorted by Math(ascending ):\n",
      "    Math  English\n",
      "3    67       78\n",
      "8    70       84\n",
      "9    70       92\n",
      "2    74       94\n",
      "6    78       56\n",
      "4    80       57\n",
      "7    82       78\n",
      "1    88       90\n",
      "5    98       76\n",
      "0    98       78\n",
      "\n",
      " Sorted by English (descending):\n",
      "    Math  English\n",
      "2    74       94\n",
      "9    70       92\n",
      "1    88       90\n",
      "8    70       84\n",
      "0    98       78\n",
      "3    67       78\n",
      "7    82       78\n",
      "5    98       76\n",
      "4    80       57\n",
      "6    78       56\n"
     ]
    }
   ],
   "source": [
    "#Q22.Generate a dataset and implement both variance and standard deviation computations.\n",
    "#Solution\n",
    "np.random.seed(42)\n",
    "data={\"Math\":np.random.randint(60,100,size=10),\n",
    "      \"English\":np.random.randint(55,95,size=10)}\n",
    "df=pd.DataFrame(data)\n",
    "print(\"Original dataset:\\n\",df)\n",
    "\n",
    "#sort by math scores\n",
    "df_sorted_math=df.sort_values(by=\"Math\")\n",
    "print(\"\\n Sorted by Math(ascending ):\\n\",df_sorted_math)\n",
    "#Sort by English scores\n",
    "df_sorted_english=df.sort_values(by=\"English\",ascending=False)\n",
    "print(\"\\n Sorted by English (descending):\\n\",df_sorted_english)\n",
    "\n"
   ]
  },
  {
   "cell_type": "code",
   "execution_count": 45,
   "id": "c49bc457-8ca5-43d4-8e87-3f9924fc1712",
   "metadata": {},
   "outputs": [
    {
     "data": {
      "image/png": "[encoded data removed]",
      "text/plain": [
       "<Figure size 1000x600 with 1 Axes>"
      ]
     },
     "metadata": {},
     "output_type": "display_data"
    }
   ],
   "source": [
    "#Q23.Visualize skewnes  and kurtosis using Python libraries like matplotlib or seaborn .\n",
    "#Solution\n",
    "np.random.seed(0)\n",
    "data=np.random.normal(loc=0,scale=1,size=1000)\n",
    "#calculate skewness and kurtosis\n",
    "data_skewness=skew(data)\n",
    "data_kurtosis=kurtosis(data,fisher=True)\n",
    "#plot histogram\n",
    "plt.figure(figsize=(10,6))\n",
    "sns.histplot(data,kde=True,bins=30,color=\"skyblue\",edgecolor=\"black\")\n",
    "\n",
    "#Annotate plot with skewness and kurtosis\n",
    "plt.title(f\"Distribution of Data\\nskewness:{data_skewness:.2f},Kurtosis:{data_kurtosis:.2f}\")\n",
    "plt.xlabel(\"Value\")\n",
    "plt.ylabel(\"Frequency\")\n",
    "plt.grid(True)\n",
    "plt.tight_layout()\n",
    "plt.show()"
   ]
  },
  {
   "cell_type": "code",
   "execution_count": 55,
   "id": "cf8487dd-47c7-4bad-b155-899249c68099",
   "metadata": {},
   "outputs": [
    {
     "name": "stdout",
     "output_type": "stream",
     "text": [
      "Pearson Correlation:0.9988\n",
      "Spearman Correlation:1.0000\n"
     ]
    }
   ],
   "source": [
    "#Q24.Implement the Pearson and Spearman correlation for a dataset.\n",
    "#Solution \n",
    "from scipy.stats import pearsonr,spearmanr\n",
    "x=[10,20,30,40,50]\n",
    "y=[12,24,33,45,54]\n",
    "\n",
    "#pearson correlation\n",
    "pearson_corr,_=pearsonr(x,y)\n",
    "\n",
    "#Spearson Correlation\n",
    "spearman_corr,_=spearmanr(x,y)\n",
    "\n",
    "print(f\"Pearson Correlation:{pearson_corr:.4f}\")\n",
    "print(f\"Spearman Correlation:{spearman_corr:.4f}\")\n"
   ]
  },
  {
   "cell_type": "code",
   "execution_count": null,
   "id": "9b060ebf-f486-41d3-b2cf-56603b1ed974",
   "metadata": {},
   "outputs": [],
   "source": []
  },
  {
   "cell_type": "code",
   "execution_count": null,
   "id": "02b3c614-d49d-4368-92a4-ea7c350c0618",
   "metadata": {},
   "outputs": [],
   "source": []
  },
  {
   "cell_type": "code",
   "execution_count": null,
   "id": "0bf80168-78f1-4649-a2ec-b96d3c00ed42",
   "metadata": {},
   "outputs": [],
   "source": []
  },
  {
   "cell_type": "code",
   "execution_count": null,
   "id": "21e3e282-416e-44ab-8246-8f63bc74f751",
   "metadata": {},
   "outputs": [],
   "source": []
  }
 ],
 "metadata": {
  "kernelspec": {
   "display_name": "Python 3 (ipykernel)",
   "language": "python",
   "name": "python3"
  },
  "language_info": {
   "codemirror_mode": {
    "name": "ipython",
    "version": 3
   },
   "file_extension": ".py",
   "mimetype": "text/x-python",
   "name": "python",
   "nbconvert_exporter": "python",
   "pygments_lexer": "ipython3",
   "version": "3.13.2"
  }
 },
 "nbformat": 4,
 "nbformat_minor": 5
}
